{
 "cells": [
  {
   "cell_type": "markdown",
   "metadata": {},
   "source": [
    "# Biodiversity Intactness Analysis for Phoenix Subdivision\n",
    "\n",
    "## Author: Takeen Shamloo\n",
    "View full repo: [GitHub Link](https://github.com/takeenshamloo/biodiversity-intactness-phoenix)"
   ]
  },
  {
   "cell_type": "markdown",
   "metadata": {},
   "source": [
    "## About\n",
    "### Purpose\n",
    "This notebook analyzes the Biodiversity Intactness Index (BII) within the Phoenix subdivision for the years 2017 and 2020. It calculates biodiversity loss, visualizes the results, and identifies areas where biodiversity was maintained or declined.\n",
    "\n",
    "### Highlights\n",
    "1. Data exploration and masking of biodiversity data.\n",
    "2. Visualization of BII values for 2017 and 2020.\n",
    "3. Overlay of biodiversity loss with transparent backgrounds.\n",
    "4. Calculation of the percentage of area with biodiversity changes.\n",
    "\n",
    "### About the Data\n",
    "The BII data was sourced from the Microsoft Planetary Computer and focuses on the Phoenix, AZ area. The dataset provides rasterized BII values for 2017 and 2020.\n",
    "\n",
    "### References\n",
    "- Microsoft Planetary Computer. (n.d.). Biodiversity intactness data. Retrieved from https://planetarycomputer.microsoft.com\n",
    "- GeoPandas contributors. (n.d.). GeoPandas documentation. Retrieved from https://geopandas.org\n",
    "- Rasterio contributors. (n.d.). Rasterio documentation. Retrieved from https://rasterio.readthedocs.io\n",
    "- U.S. Census Bureau. (n.d.). Census County Subdivision shapefiles for Arizona. Retrieved from https://www.census.gov/geographies/mapping-files.html\n",
    "---\n"
   ]
  },
  {
   "cell_type": "code",
   "execution_count": 1,
   "metadata": {},
   "outputs": [],
   "source": [
    "# Import required libraries\n",
    "import geopandas as gpd\n",
    "import matplotlib.pyplot as plt\n",
    "import rasterio\n",
    "from rasterio.mask import mask\n",
    "import numpy as np\n",
    "\n",
    "# For importing BII Data from Microsoft\n",
    "from pystac_client import Client\n",
    "import planetary_computer as pc\n",
    "import requests"
   ]
  },
  {
   "cell_type": "markdown",
   "metadata": {},
   "source": [
    "### Code below is used to generate BII Data for 2017/2020\n",
    "- Should only be ran if needed to generate files again."
   ]
  },
  {
   "cell_type": "raw",
   "metadata": {},
   "source": [
    "# Connect to the Planetary Computer STAC API\n",
    "catalog = Client.open(\"https://planetarycomputer.microsoft.com/api/stac/v1\")\n",
    "\n",
    "# Define your area of interest (Phoenix, AZ bounding box)\n",
    "aoi = {\n",
    "    \"type\": \"Polygon\",\n",
    "    \"coordinates\": [\n",
    "        [\n",
    "            [-112.826843, 32.974108],  # Bottom-left\n",
    "            [-111.184387, 32.974108],  # Bottom-right\n",
    "            [-111.184387, 33.863574],  # Top-right\n",
    "            [-112.826843, 33.863574],  # Top-left\n",
    "            [-112.826843, 32.974108]   # Close the polygon\n",
    "        ]\n",
    "    ]\n",
    "}\n",
    "\n",
    "# Function to download raster for a specific year\n",
    "def download_bii_raster(year, output_path):\n",
    "    daterange = {\"interval\": [f\"{year}-01-01T00:00:00Z\", f\"{year}-12-31T23:59:59Z\"]}\n",
    "    \n",
    "    # Search query using CQL2\n",
    "    search = catalog.search(filter_lang=\"cql2-json\", filter={\n",
    "        \"op\": \"and\",\n",
    "        \"args\": [\n",
    "            {\"op\": \"s_intersects\", \"args\": [{\"property\": \"geometry\"}, aoi]},\n",
    "            {\"op\": \"anyinteracts\", \"args\": [{\"property\": \"datetime\"}, daterange]},\n",
    "            {\"op\": \"=\", \"args\": [{\"property\": \"collection\"}, \"io-biodiversity\"]}\n",
    "        ]\n",
    "    })\n",
    "\n",
    "    # Retrieve the first item and sign the assets\n",
    "    first_item = next(search.get_items(), None)\n",
    "    if first_item is None:\n",
    "        raise ValueError(f\"No data found for year {year}.\")\n",
    "    \n",
    "    signed_assets = pc.sign_item(first_item).assets\n",
    "\n",
    "    # Download the raster file\n",
    "    data_url = signed_assets[\"data\"].href\n",
    "    response = requests.get(data_url)\n",
    "    with open(output_path, \"wb\") as file:\n",
    "        file.write(response.content)\n",
    "\n",
    "    print(f\"BII raster for {year} downloaded successfully to {output_path}!\")\n",
    "\n",
    "# Download rasters for 2017 and 2020\n",
    "download_bii_raster(2017, \"bii_2017.tif\")\n",
    "download_bii_raster(2020, \"bii_2020.tif\")"
   ]
  }
 ],
 "metadata": {
  "kernelspec": {
   "display_name": "Python 3.8.8 ('base')",
   "language": "python",
   "name": "python3"
  },
  "language_info": {
   "codemirror_mode": {
    "name": "ipython",
    "version": 3
   },
   "file_extension": ".py",
   "mimetype": "text/x-python",
   "name": "python",
   "nbconvert_exporter": "python",
   "pygments_lexer": "ipython3",
   "version": "3.8.8"
  },
  "orig_nbformat": 4,
  "vscode": {
   "interpreter": {
    "hash": "96ebf3b21eabf7cf28685656aee514e31d9e0e5a3cbd0b6438e4a6a83bf7054f"
   }
  }
 },
 "nbformat": 4,
 "nbformat_minor": 2
}
